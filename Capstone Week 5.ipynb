{
 "cells": [
  {
   "cell_type": "markdown",
   "metadata": {},
   "source": [
    "# Tourism Finder\n",
    "## Applied Data Science Capstone"
   ]
  },
  {
   "cell_type": "markdown",
   "metadata": {},
   "source": [
    "## Introduction\n",
    "Tourism finder is an application that is used to find Tourism given any city. Finding tourism hotspots in a city is really important because several businesses can thrive in tourism hotspots. Here is a sample list of businesses that can thrive in tourism hotspots:\n",
    "\n",
    "1.\tPlanning a Vacation\n",
    "2.\tFancy Restaurants \n",
    "3.\tNightclubs \n",
    "4.\tHotels and Star Hotels \n",
    "5.\tMalls \n",
    "6.\tSouvenir Shops \n",
    "7.\tAnd more... \n",
    "\n",
    "This application is designed to take in the city name as input and an interactive map of the region will be generated as output with the tourism attractions superimposed over the map as circles. "
   ]
  },
  {
   "cell_type": "code",
   "execution_count": 1,
   "metadata": {},
   "outputs": [
    {
     "name": "stdout",
     "output_type": "stream",
     "text": [
      "Hello Tourism Finder!\n"
     ]
    }
   ],
   "source": [
    "# Deal with import statements first \n",
    "import requests\n",
    "import pandas as pd\n",
    "import numpy as np\n",
    "from pandas.io.json import json_normalize\n",
    "\n",
    "#!conda install -c conda-forge folium=0.5.0 --yes\n",
    "import folium \n",
    "\n",
    "#!conda install -c anaconda lxml --yes\n",
    "import lxml\n",
    "\n",
    "#!conda install -c conda-forge geopy --yes\n",
    "from geopy.geocoders import Nominatim\n",
    "\n",
    "# For the Foursquare API\n",
    "CLIENT_ID = 'censored-sensitive-information'\n",
    "CLIENT_SECRET = 'censored-sensitive-information'\n",
    "VERSION = '20180604'\n",
    "LIMIT = 80\n",
    "print(\"Hello Tourism Finder!\")"
   ]
  },
  {
   "cell_type": "markdown",
   "metadata": {},
   "source": [
    "## Dashboard\n",
    "You will set parameters here. In fact, this dashboard can be replaced with any other kind to get the user input, example, Command-Line Interface, GUI. "
   ]
  },
  {
   "cell_type": "code",
   "execution_count": 2,
   "metadata": {},
   "outputs": [],
   "source": [
    "# Set city name \n",
    "city = \"Singapore\"\n",
    "\n",
    "# Or set latitude and longitude manually \n",
    "# and set city to None by uncommenting the line\n",
    "lat = 13.0827\n",
    "lon = 80.2707\n",
    "#city = None"
   ]
  },
  {
   "cell_type": "markdown",
   "metadata": {},
   "source": [
    "### Step 1: Retrieve coordinates "
   ]
  },
  {
   "cell_type": "code",
   "execution_count": 3,
   "metadata": {},
   "outputs": [
    {
     "name": "stdout",
     "output_type": "stream",
     "text": [
      "The coordinates of Singapore are (1.357107, 103.819499).\n"
     ]
    }
   ],
   "source": [
    "if city != None:\n",
    "    geolocator = Nominatim(user_agent=\"foursquare_agent\")\n",
    "    location = geolocator.geocode(city)\n",
    "    #print(type(location))\n",
    "    lat = location.latitude\n",
    "    lon = location.longitude\n",
    "    print (\"The coordinates of %s are (%f, %f).\" % (city, lat, lon))\n",
    "else:\n",
    "    print (\"Your chosen coordinates are (%f, %f).\" % (lat, lon))"
   ]
  },
  {
   "cell_type": "markdown",
   "metadata": {},
   "source": [
    "### Step 2: Retrieve list of tourism attractions"
   ]
  },
  {
   "cell_type": "markdown",
   "metadata": {},
   "source": [
    "#### Retrieve by using Foursquare API Call"
   ]
  },
  {
   "cell_type": "code",
   "execution_count": 4,
   "metadata": {},
   "outputs": [
    {
     "name": "stdout",
     "output_type": "stream",
     "text": [
      "Status code: 200.\n"
     ]
    }
   ],
   "source": [
    "search_query = 'Tourism'\n",
    "radius = 50000\n",
    "url = 'https://api.foursquare.com/v2/venues/search?client_id={}&client_secret={}&ll={},{}&v={}&query={}&radius={}&limit={}'.format(CLIENT_ID, CLIENT_SECRET, lat, lon, VERSION, search_query, radius, LIMIT)\n",
    "results = requests.get(url).json()\n",
    "print(\"Status code: %d.\"%results['meta']['code'])"
   ]
  },
  {
   "cell_type": "markdown",
   "metadata": {},
   "source": [
    "#### Process the JSON file"
   ]
  },
  {
   "cell_type": "code",
   "execution_count": 5,
   "metadata": {
    "scrolled": true
   },
   "outputs": [
    {
     "name": "stdout",
     "output_type": "stream",
     "text": [
      "50 Results loaded.\n",
      "Displaying first 3 rows:\n"
     ]
    },
    {
     "data": {
      "text/html": [
       "<div>\n",
       "<style scoped>\n",
       "    .dataframe tbody tr th:only-of-type {\n",
       "        vertical-align: middle;\n",
       "    }\n",
       "\n",
       "    .dataframe tbody tr th {\n",
       "        vertical-align: top;\n",
       "    }\n",
       "\n",
       "    .dataframe thead th {\n",
       "        text-align: right;\n",
       "    }\n",
       "</style>\n",
       "<table border=\"1\" class=\"dataframe\">\n",
       "  <thead>\n",
       "    <tr style=\"text-align: right;\">\n",
       "      <th></th>\n",
       "      <th>categories</th>\n",
       "      <th>hasPerk</th>\n",
       "      <th>id</th>\n",
       "      <th>location.address</th>\n",
       "      <th>location.cc</th>\n",
       "      <th>location.city</th>\n",
       "      <th>location.country</th>\n",
       "      <th>location.crossStreet</th>\n",
       "      <th>location.distance</th>\n",
       "      <th>location.formattedAddress</th>\n",
       "      <th>location.labeledLatLngs</th>\n",
       "      <th>location.lat</th>\n",
       "      <th>location.lng</th>\n",
       "      <th>location.postalCode</th>\n",
       "      <th>location.state</th>\n",
       "      <th>name</th>\n",
       "      <th>referralId</th>\n",
       "    </tr>\n",
       "  </thead>\n",
       "  <tbody>\n",
       "    <tr>\n",
       "      <th>0</th>\n",
       "      <td>[{'id': '4bf58dd8d48988d12c951735', 'name': 'E...</td>\n",
       "      <td>False</td>\n",
       "      <td>4cff4c65f7b38cfa9a7cc8c3</td>\n",
       "      <td>370 Orchard Road</td>\n",
       "      <td>SG</td>\n",
       "      <td>Singapore</td>\n",
       "      <td>Singapore</td>\n",
       "      <td>NaN</td>\n",
       "      <td>5817</td>\n",
       "      <td>[370 Orchard Road, 238870, Singapore]</td>\n",
       "      <td>[{'label': 'display', 'lat': 1.305928, 'lng': ...</td>\n",
       "      <td>1.305928</td>\n",
       "      <td>103.830079</td>\n",
       "      <td>238870</td>\n",
       "      <td>NaN</td>\n",
       "      <td>Tourism Authority Of Thailand</td>\n",
       "      <td>v-1592130282</td>\n",
       "    </tr>\n",
       "    <tr>\n",
       "      <th>1</th>\n",
       "      <td>[{'id': '52e81612bcbc57f1066b7a13', 'name': 'N...</td>\n",
       "      <td>False</td>\n",
       "      <td>52e0d6f4498e23eedfbea071</td>\n",
       "      <td>Mandai Lake Road</td>\n",
       "      <td>SG</td>\n",
       "      <td>Singapore</td>\n",
       "      <td>Singapore</td>\n",
       "      <td>NaN</td>\n",
       "      <td>6621</td>\n",
       "      <td>[Mandai Lake Road, Singapore]</td>\n",
       "      <td>[{'label': 'display', 'lat': 1.405894323317632...</td>\n",
       "      <td>1.405894</td>\n",
       "      <td>103.785460</td>\n",
       "      <td>NaN</td>\n",
       "      <td>NaN</td>\n",
       "      <td>Mandai Eco-Tourism Hub</td>\n",
       "      <td>v-1592130282</td>\n",
       "    </tr>\n",
       "    <tr>\n",
       "      <th>2</th>\n",
       "      <td>[{'id': '4bf58dd8d48988d1a0941735', 'name': 'C...</td>\n",
       "      <td>False</td>\n",
       "      <td>4c7b330176ce9c743c6fb60c</td>\n",
       "      <td>#06-21/26, Singapore Shopping Center</td>\n",
       "      <td>SG</td>\n",
       "      <td>Singapore</td>\n",
       "      <td>Singapore</td>\n",
       "      <td>190 Clemenceau Ave</td>\n",
       "      <td>7087</td>\n",
       "      <td>[#06-21/26, Singapore Shopping Center (190 Cle...</td>\n",
       "      <td>[{'label': 'display', 'lat': 1.298463226550203...</td>\n",
       "      <td>1.298463</td>\n",
       "      <td>103.844285</td>\n",
       "      <td>239924</td>\n",
       "      <td>NaN</td>\n",
       "      <td>Tourism Management Institute of Singapore (TMIS)</td>\n",
       "      <td>v-1592130282</td>\n",
       "    </tr>\n",
       "  </tbody>\n",
       "</table>\n",
       "</div>"
      ],
      "text/plain": [
       "                                          categories  hasPerk  \\\n",
       "0  [{'id': '4bf58dd8d48988d12c951735', 'name': 'E...    False   \n",
       "1  [{'id': '52e81612bcbc57f1066b7a13', 'name': 'N...    False   \n",
       "2  [{'id': '4bf58dd8d48988d1a0941735', 'name': 'C...    False   \n",
       "\n",
       "                         id                      location.address location.cc  \\\n",
       "0  4cff4c65f7b38cfa9a7cc8c3                      370 Orchard Road          SG   \n",
       "1  52e0d6f4498e23eedfbea071                      Mandai Lake Road          SG   \n",
       "2  4c7b330176ce9c743c6fb60c  #06-21/26, Singapore Shopping Center          SG   \n",
       "\n",
       "  location.city location.country location.crossStreet  location.distance  \\\n",
       "0     Singapore        Singapore                  NaN               5817   \n",
       "1     Singapore        Singapore                  NaN               6621   \n",
       "2     Singapore        Singapore   190 Clemenceau Ave               7087   \n",
       "\n",
       "                           location.formattedAddress  \\\n",
       "0              [370 Orchard Road, 238870, Singapore]   \n",
       "1                      [Mandai Lake Road, Singapore]   \n",
       "2  [#06-21/26, Singapore Shopping Center (190 Cle...   \n",
       "\n",
       "                             location.labeledLatLngs  location.lat  \\\n",
       "0  [{'label': 'display', 'lat': 1.305928, 'lng': ...      1.305928   \n",
       "1  [{'label': 'display', 'lat': 1.405894323317632...      1.405894   \n",
       "2  [{'label': 'display', 'lat': 1.298463226550203...      1.298463   \n",
       "\n",
       "   location.lng location.postalCode location.state  \\\n",
       "0    103.830079              238870            NaN   \n",
       "1    103.785460                 NaN            NaN   \n",
       "2    103.844285              239924            NaN   \n",
       "\n",
       "                                               name    referralId  \n",
       "0                     Tourism Authority Of Thailand  v-1592130282  \n",
       "1                            Mandai Eco-Tourism Hub  v-1592130282  \n",
       "2  Tourism Management Institute of Singapore (TMIS)  v-1592130282  "
      ]
     },
     "execution_count": 5,
     "metadata": {},
     "output_type": "execute_result"
    }
   ],
   "source": [
    "# Assign relevant part of JSON to venues\n",
    "venues = results['response']['venues']\n",
    "\n",
    "# Tranform venues into a dataframe\n",
    "dataframe = json_normalize(venues)\n",
    "print(\"%d Results loaded.\" % dataframe.shape[0])\n",
    "print(\"Displaying first 3 rows:\")\n",
    "dataframe.head(3)"
   ]
  },
  {
   "cell_type": "markdown",
   "metadata": {},
   "source": [
    "#### Fix the Categories column"
   ]
  },
  {
   "cell_type": "code",
   "execution_count": 6,
   "metadata": {},
   "outputs": [
    {
     "data": {
      "text/html": [
       "<div>\n",
       "<style scoped>\n",
       "    .dataframe tbody tr th:only-of-type {\n",
       "        vertical-align: middle;\n",
       "    }\n",
       "\n",
       "    .dataframe tbody tr th {\n",
       "        vertical-align: top;\n",
       "    }\n",
       "\n",
       "    .dataframe thead th {\n",
       "        text-align: right;\n",
       "    }\n",
       "</style>\n",
       "<table border=\"1\" class=\"dataframe\">\n",
       "  <thead>\n",
       "    <tr style=\"text-align: right;\">\n",
       "      <th></th>\n",
       "      <th>categories</th>\n",
       "      <th>hasPerk</th>\n",
       "      <th>id</th>\n",
       "      <th>location.address</th>\n",
       "      <th>location.cc</th>\n",
       "      <th>location.city</th>\n",
       "      <th>location.country</th>\n",
       "      <th>location.crossStreet</th>\n",
       "      <th>location.distance</th>\n",
       "      <th>location.formattedAddress</th>\n",
       "      <th>location.labeledLatLngs</th>\n",
       "      <th>location.lat</th>\n",
       "      <th>location.lng</th>\n",
       "      <th>location.postalCode</th>\n",
       "      <th>location.state</th>\n",
       "      <th>name</th>\n",
       "      <th>referralId</th>\n",
       "    </tr>\n",
       "  </thead>\n",
       "  <tbody>\n",
       "    <tr>\n",
       "      <th>0</th>\n",
       "      <td>Embassy / Consulate</td>\n",
       "      <td>False</td>\n",
       "      <td>4cff4c65f7b38cfa9a7cc8c3</td>\n",
       "      <td>370 Orchard Road</td>\n",
       "      <td>SG</td>\n",
       "      <td>Singapore</td>\n",
       "      <td>Singapore</td>\n",
       "      <td>NaN</td>\n",
       "      <td>5817</td>\n",
       "      <td>[370 Orchard Road, 238870, Singapore]</td>\n",
       "      <td>[{'label': 'display', 'lat': 1.305928, 'lng': ...</td>\n",
       "      <td>1.305928</td>\n",
       "      <td>103.830079</td>\n",
       "      <td>238870</td>\n",
       "      <td>NaN</td>\n",
       "      <td>Tourism Authority Of Thailand</td>\n",
       "      <td>v-1592130282</td>\n",
       "    </tr>\n",
       "    <tr>\n",
       "      <th>1</th>\n",
       "      <td>Nature Preserve</td>\n",
       "      <td>False</td>\n",
       "      <td>52e0d6f4498e23eedfbea071</td>\n",
       "      <td>Mandai Lake Road</td>\n",
       "      <td>SG</td>\n",
       "      <td>Singapore</td>\n",
       "      <td>Singapore</td>\n",
       "      <td>NaN</td>\n",
       "      <td>6621</td>\n",
       "      <td>[Mandai Lake Road, Singapore]</td>\n",
       "      <td>[{'label': 'display', 'lat': 1.405894323317632...</td>\n",
       "      <td>1.405894</td>\n",
       "      <td>103.785460</td>\n",
       "      <td>NaN</td>\n",
       "      <td>NaN</td>\n",
       "      <td>Mandai Eco-Tourism Hub</td>\n",
       "      <td>v-1592130282</td>\n",
       "    </tr>\n",
       "    <tr>\n",
       "      <th>2</th>\n",
       "      <td>College Classroom</td>\n",
       "      <td>False</td>\n",
       "      <td>4c7b330176ce9c743c6fb60c</td>\n",
       "      <td>#06-21/26, Singapore Shopping Center</td>\n",
       "      <td>SG</td>\n",
       "      <td>Singapore</td>\n",
       "      <td>Singapore</td>\n",
       "      <td>190 Clemenceau Ave</td>\n",
       "      <td>7087</td>\n",
       "      <td>[#06-21/26, Singapore Shopping Center (190 Cle...</td>\n",
       "      <td>[{'label': 'display', 'lat': 1.298463226550203...</td>\n",
       "      <td>1.298463</td>\n",
       "      <td>103.844285</td>\n",
       "      <td>239924</td>\n",
       "      <td>NaN</td>\n",
       "      <td>Tourism Management Institute of Singapore (TMIS)</td>\n",
       "      <td>v-1592130282</td>\n",
       "    </tr>\n",
       "  </tbody>\n",
       "</table>\n",
       "</div>"
      ],
      "text/plain": [
       "            categories  hasPerk                        id  \\\n",
       "0  Embassy / Consulate    False  4cff4c65f7b38cfa9a7cc8c3   \n",
       "1      Nature Preserve    False  52e0d6f4498e23eedfbea071   \n",
       "2    College Classroom    False  4c7b330176ce9c743c6fb60c   \n",
       "\n",
       "                       location.address location.cc location.city  \\\n",
       "0                      370 Orchard Road          SG     Singapore   \n",
       "1                      Mandai Lake Road          SG     Singapore   \n",
       "2  #06-21/26, Singapore Shopping Center          SG     Singapore   \n",
       "\n",
       "  location.country location.crossStreet  location.distance  \\\n",
       "0        Singapore                  NaN               5817   \n",
       "1        Singapore                  NaN               6621   \n",
       "2        Singapore   190 Clemenceau Ave               7087   \n",
       "\n",
       "                           location.formattedAddress  \\\n",
       "0              [370 Orchard Road, 238870, Singapore]   \n",
       "1                      [Mandai Lake Road, Singapore]   \n",
       "2  [#06-21/26, Singapore Shopping Center (190 Cle...   \n",
       "\n",
       "                             location.labeledLatLngs  location.lat  \\\n",
       "0  [{'label': 'display', 'lat': 1.305928, 'lng': ...      1.305928   \n",
       "1  [{'label': 'display', 'lat': 1.405894323317632...      1.405894   \n",
       "2  [{'label': 'display', 'lat': 1.298463226550203...      1.298463   \n",
       "\n",
       "   location.lng location.postalCode location.state  \\\n",
       "0    103.830079              238870            NaN   \n",
       "1    103.785460                 NaN            NaN   \n",
       "2    103.844285              239924            NaN   \n",
       "\n",
       "                                               name    referralId  \n",
       "0                     Tourism Authority Of Thailand  v-1592130282  \n",
       "1                            Mandai Eco-Tourism Hub  v-1592130282  \n",
       "2  Tourism Management Institute of Singapore (TMIS)  v-1592130282  "
      ]
     },
     "execution_count": 6,
     "metadata": {},
     "output_type": "execute_result"
    }
   ],
   "source": [
    "# Fix the Categories Column\n",
    "\n",
    "# Function that extracts the category of the venue\n",
    "def get_category_type(row):\n",
    "    try:\n",
    "        categories_list = row['categories']\n",
    "    except:\n",
    "        categories_list = row['venue.categories']\n",
    "        \n",
    "    if len(categories_list) == 0:\n",
    "        return None\n",
    "    else:\n",
    "        return categories_list[0]['name']\n",
    "\n",
    "# Apply filter to the categories column\n",
    "dataframe['categories'] = dataframe.apply(get_category_type, axis=1)\n",
    "dataframe.head(3)"
   ]
  },
  {
   "cell_type": "markdown",
   "metadata": {},
   "source": [
    "### Step 3: Plot them onto a map"
   ]
  },
  {
   "cell_type": "code",
   "execution_count": 7,
   "metadata": {},
   "outputs": [
    {
     "data": {
      "text/html": [
       "<div style=\"width:100%;\"><div style=\"position:relative;width:100%;height:0;padding-bottom:60%;\"><span style=\"color:#565656\">Make this Notebook Trusted to load map: File -> Trust Notebook</span><iframe src=\"about:blank\" style=\"position:absolute;width:100%;height:100%;left:0;top:0;border:none !important;\" data-html=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 onload=\"this.contentDocument.open();this.contentDocument.write(atob(this.getAttribute('data-html')));this.contentDocument.close();\" allowfullscreen webkitallowfullscreen mozallowfullscreen></iframe></div></div>"
      ],
      "text/plain": [
       "<folium.folium.Map at 0x1dc9d296160>"
      ]
     },
     "execution_count": 7,
     "metadata": {},
     "output_type": "execute_result"
    }
   ],
   "source": [
    "# Initialise Map object \n",
    "tourism_map = folium.Map(location=[lat, lon], zoom_start=11)\n",
    "\n",
    "# Red circle represents center location \n",
    "if city != None:\n",
    "    lbl = folium.Popup(city + \" (\" + str(lat) + \", \" + str(lon) + \")\", parse_html=True)\n",
    "else: \n",
    "    lbl = folium.Popup(\" (\" + str(lat) + \", \" + str(lon) + \")\", parse_html=True)\n",
    "folium.features.CircleMarker([lat, lon], radius=5, popup=lbl, fill=True, color='red', \n",
    "                             fill_color='red', fill_opacity=0.6).add_to(tourism_map)\n",
    "\n",
    "# Blue circles represent tourism spots\n",
    "for lati, lngi, cat, attr in zip(dataframe['location.lat'],dataframe['location.lng'],dataframe['categories'], dataframe['name']):\n",
    "    if cat == None:\n",
    "        lbl = folium.Popup(str(attr), parse_html=True)\n",
    "    else:\n",
    "        lbl = folium.Popup(str(attr) + ' (' + str(cat) + ')', parse_html=True)\n",
    "    folium.features.CircleMarker([lati, lngi], radius=5, popup=lbl, fill=True, color='blue', \n",
    "                                 fill_color='blue', fill_opacity=0.6).add_to(tourism_map)\n",
    "\n",
    "tourism_map"
   ]
  },
  {
   "cell_type": "code",
   "execution_count": null,
   "metadata": {},
   "outputs": [],
   "source": []
  }
 ],
 "metadata": {
  "kernelspec": {
   "display_name": "Python 3",
   "language": "python",
   "name": "python3"
  },
  "language_info": {
   "codemirror_mode": {
    "name": "ipython",
    "version": 3
   },
   "file_extension": ".py",
   "mimetype": "text/x-python",
   "name": "python",
   "nbconvert_exporter": "python",
   "pygments_lexer": "ipython3",
   "version": "3.7.1"
  }
 },
 "nbformat": 4,
 "nbformat_minor": 4
}
